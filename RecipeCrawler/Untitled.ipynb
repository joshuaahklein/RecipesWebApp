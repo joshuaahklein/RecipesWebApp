{
 "cells": [
  {
   "cell_type": "code",
   "execution_count": 4,
   "metadata": {
    "collapsed": false
   },
   "outputs": [
    {
     "ename": "ImportError",
     "evalue": "No module named 'bs4'",
     "output_type": "error",
     "traceback": [
      "\u001b[0;31m---------------------------------------------------------------------------\u001b[0m",
      "\u001b[0;31mImportError\u001b[0m                               Traceback (most recent call last)",
      "\u001b[0;32m<ipython-input-4-e8da1a85969e>\u001b[0m in \u001b[0;36m<module>\u001b[0;34m()\u001b[0m\n\u001b[0;32m----> 1\u001b[0;31m \u001b[0;32mfrom\u001b[0m \u001b[0mbs4\u001b[0m \u001b[0;32mimport\u001b[0m \u001b[0mBeautifulSoup\u001b[0m\u001b[0;34m\u001b[0m\u001b[0m\n\u001b[0m\u001b[1;32m      2\u001b[0m \u001b[0;32mimport\u001b[0m \u001b[0murllib\u001b[0m\u001b[0;34m\u001b[0m\u001b[0m\n\u001b[1;32m      3\u001b[0m \u001b[0;34m\u001b[0m\u001b[0m\n\u001b[1;32m      4\u001b[0m \u001b[0;32mdef\u001b[0m \u001b[0mgetRecipeData\u001b[0m\u001b[0;34m(\u001b[0m\u001b[0mID\u001b[0m\u001b[0;34m,\u001b[0m \u001b[0mholdRecipe\u001b[0m \u001b[0;34m=\u001b[0m \u001b[0;32mFalse\u001b[0m\u001b[0;34m)\u001b[0m\u001b[0;34m:\u001b[0m\u001b[0;34m\u001b[0m\u001b[0m\n\u001b[1;32m      5\u001b[0m     \u001b[0mbaseURL\u001b[0m \u001b[0;34m=\u001b[0m \u001b[0;34m\"http://www.therecipedepository.com/recipe/\"\u001b[0m\u001b[0;34m\u001b[0m\u001b[0m\n",
      "\u001b[0;31mImportError\u001b[0m: No module named 'bs4'"
     ]
    }
   ],
   "source": [
    "from bs4 import BeautifulSoup\n",
    "import urllib\n",
    "\n",
    "def getRecipeData(ID, holdRecipe = False):\n",
    "    baseURL = \"http://www.therecipedepository.com/recipe/\"\n",
    "    fileNameBase = \"Recipe\"\n",
    "    \n",
    "    url = baseURL + str(ID)\n",
    "    urlReq = urllib.request.urlopen(url)\n",
    "    html = (urlReq.read(2**3202))\n",
    "    \n",
    "    if holdRecipe is True:\n",
    "        fileNameBase += \"ID\" + str(ID)\n",
    "        \n",
    "    fileWithHTML = open(fileNameBase + \".html\", 'w')\n",
    "    soup = bs4.BeautifulSoup(html)\n",
    "    for line in sou.prettyfy():\n",
    "        fileWithHTML.write(line)\n",
    "    fileWithHTML.close()\n",
    "    \n",
    "    return \"Done.  File has been created in local dir.\"\n",
    "\n",
    "def getMuchData(IDCeiling, holdRecipe = False):\n",
    "    for i in range(100, IDCeiling):\n",
    "        getRecipeData(i, holdRecipe)\n",
    "    return \"Done.\"\n"
   ]
  },
  {
   "cell_type": "code",
   "execution_count": null,
   "metadata": {
    "collapsed": true
   },
   "outputs": [],
   "source": []
  }
 ],
 "metadata": {
  "kernelspec": {
   "display_name": "Python 3",
   "language": "python",
   "name": "python3"
  },
  "language_info": {
   "codemirror_mode": {
    "name": "ipython",
    "version": 3
   },
   "file_extension": ".py",
   "mimetype": "text/x-python",
   "name": "python",
   "nbconvert_exporter": "python",
   "pygments_lexer": "ipython3",
   "version": "3.4.3"
  }
 },
 "nbformat": 4,
 "nbformat_minor": 0
}
